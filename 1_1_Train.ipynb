{
  "cells": [
    {
      "cell_type": "markdown",
      "metadata": {
        "id": "view-in-github",
        "colab_type": "text"
      },
      "source": [
        "<a href=\"https://colab.research.google.com/github/daidoAI/classify_vehicle_registration/blob/main/1_1_Train.ipynb\" target=\"_parent\"><img src=\"https://colab.research.google.com/assets/colab-badge.svg\" alt=\"Open In Colab\"/></a>"
      ]
    },
    {
      "cell_type": "markdown",
      "id": "e83ca233-c475-419b-a2ef-4de2d1af1cfe",
      "metadata": {
        "jp-MarkdownHeadingCollapsed": true,
        "tags": [],
        "id": "e83ca233-c475-419b-a2ef-4de2d1af1cfe"
      },
      "source": [
        "# Prepare"
      ]
    },
    {
      "cell_type": "code",
      "execution_count": null,
      "id": "f2832d4d-09a9-4566-b2da-ff5315f5fd11",
      "metadata": {
        "id": "f2832d4d-09a9-4566-b2da-ff5315f5fd11"
      },
      "outputs": [],
      "source": [
        "cd /data/me/Docs_Classification/Docs_Classification/"
      ]
    },
    {
      "cell_type": "code",
      "execution_count": null,
      "id": "6f6cbf66-c78c-4218-b76f-c05e162f0f52",
      "metadata": {
        "id": "6f6cbf66-c78c-4218-b76f-c05e162f0f52"
      },
      "outputs": [],
      "source": [
        "import os\n",
        "import os.path as op\n",
        "from glob import glob\n",
        "from sklearn.model_selection import train_test_split as split\n",
        "import cv2\n",
        "from imgaug import augmenters as iaa\n",
        "import imgaug as ia\n",
        "import tensorflow as tf\n",
        "from tensorflow.keras.layers import *\n",
        "import numpy as np\n",
        "import random\n",
        "import matplotlib.pyplot as plt\n",
        "from IPython.display import clear_output\n",
        "import shutil"
      ]
    },
    {
      "cell_type": "code",
      "execution_count": null,
      "id": "feb5649f-de55-4004-a704-2eee69d8c136",
      "metadata": {
        "id": "feb5649f-de55-4004-a704-2eee69d8c136"
      },
      "outputs": [],
      "source": [
        "# Label\n",
        "labels = ['birth_certificate',\n",
        "          'chip_back',\n",
        "          'chip_front',\n",
        "          'new_back',\n",
        "          'new_front',\n",
        "          'old_back',\n",
        "          'old_front',\n",
        "          'new_driver_license',\n",
        "          'old_driver_license',\n",
        "          'passport_foreign',\n",
        "          'passport_vn',\n",
        "          'other']\n",
        "\n",
        "# Preprocessing and indicate\n",
        "resize = 224\n",
        "channel = 3"
      ]
    },
    {
      "cell_type": "markdown",
      "id": "fa1d7872-b593-4aa4-b218-4b459f70d04c",
      "metadata": {
        "jp-MarkdownHeadingCollapsed": true,
        "tags": [],
        "id": "fa1d7872-b593-4aa4-b218-4b459f70d04c"
      },
      "source": [
        "# Prepare Datasets"
      ]
    },
    {
      "cell_type": "code",
      "execution_count": null,
      "id": "dbf3e151-dc89-4f56-a276-8f3389693f15",
      "metadata": {
        "id": "dbf3e151-dc89-4f56-a276-8f3389693f15"
      },
      "outputs": [],
      "source": [
        "x_train = {}\n",
        "x_val = {}\n",
        "x_test = {}\n",
        "for label in labels:\n",
        "    x_train[label] = []\n",
        "    x_val[label] = []\n",
        "    x_test[label] = []\n",
        "    for path in glob(op.join('train_datasets',label,'**'),recursive=True):\n",
        "        if (path[-4:].lower() in ['.jpg','.png']) or (path[-5:].lower() == '.jpeg'):\n",
        "            if np.random.uniform() > 0.05:\n",
        "                x_train[label].append(path)\n",
        "            else:\n",
        "                x_val[label].append(path)\n",
        "    for path in glob(op.join('test_datasets',label,'**'),recursive=True):\n",
        "        if (path[-4:].lower() in ['.jpg','.png']) or (path[-5:].lower() == '.jpeg'):\n",
        "            x_test[label].append(path)\n",
        "    \n",
        "    \n",
        "                \n",
        "print('Training')\n",
        "for label in x_train:\n",
        "    print(f'{label}: {len(x_train[label])}')\n",
        "    \n",
        "print('\\nValidation')\n",
        "for label in x_val:\n",
        "    print(f'{label}: {len(x_val[label])}')\n",
        "    \n",
        "print('\\nTesting')\n",
        "for label in x_test:\n",
        "    print(f'{label}: {len(x_test[label])}')"
      ]
    },
    {
      "cell_type": "markdown",
      "id": "acab3639-5f10-4e8a-b966-15d1e0dfbc70",
      "metadata": {
        "jp-MarkdownHeadingCollapsed": true,
        "tags": [],
        "id": "acab3639-5f10-4e8a-b966-15d1e0dfbc70"
      },
      "source": [
        "# Preprocessing"
      ]
    },
    {
      "cell_type": "code",
      "execution_count": null,
      "id": "b6dbe718-ae40-4b8d-87ba-9c9b181c05b5",
      "metadata": {
        "id": "b6dbe718-ae40-4b8d-87ba-9c9b181c05b5"
      },
      "outputs": [],
      "source": [
        "def preprocessing_img(paths,\n",
        "                      labels=None,\n",
        "                      train=False,\n",
        "                      resize=resize):\n",
        "    images = []\n",
        "    aug = iaa.SomeOf((0, None), [\n",
        "        iaa.AdditiveGaussianNoise(scale=(0, 0.1*255), per_channel=True),\n",
        "        iaa.Cutout(nb_iterations=1, size=0.2, squared=False, fill_mode=\"constant\", cval=(0, 255)),\n",
        "        iaa.GaussianBlur(sigma=(0.0, 1.0)),\n",
        "        iaa.WithBrightnessChannels(iaa.Add((-50, 50)), from_colorspace=iaa.CSPACE_BGR),\n",
        "        iaa.MultiplySaturation((0.75, 1.25)),\n",
        "        iaa.GammaContrast((0.75, 1.5)),\n",
        "        # iaa.Fliplr(1),\n",
        "        # iaa.Flipud(1),\n",
        "        iaa.Affine(scale=(0.75, 1.25), mode=ia.ALL, cval=(0, 255)),\n",
        "        iaa.Affine(translate_percent={\"x\": (-0.2, 0.2), \"y\": (-0.2, 0.2)}, mode=ia.ALL, cval=(0, 255)),\n",
        "        iaa.Affine(rotate=(-180, 180), mode=ia.ALL, cval=(0, 255)),\n",
        "        iaa.Affine(shear=(-10, 10), mode=ia.ALL, cval=(0, 255)),\n",
        "        iaa.PiecewiseAffine(scale=(0.01, 0.03)),\n",
        "        iaa.PerspectiveTransform(scale=(0.01, 0.05)),\n",
        "        iaa.CropAndPad(percent=(-0.15, 0.15), pad_mode=ia.ALL, pad_cval=(0, 256))\n",
        "    ], random_order=True)\n",
        "    \n",
        "    for path in paths:\n",
        "        image = cv2.imread(path)\n",
        "        image = cv2.resize(image, (resize, resize))\n",
        "        images.append(image)\n",
        "        \n",
        "    if train:\n",
        "        images = aug(images=images)\n",
        "        \n",
        "    images = np.array(images).astype(np.float64)\n",
        "    images = images/255\n",
        "    \n",
        "    if labels is not None:\n",
        "        labels = np.array(labels)\n",
        "        return images, labels\n",
        "    else:\n",
        "        return images"
      ]
    },
    {
      "cell_type": "markdown",
      "id": "36d6a8d2-4879-41c7-9204-537b0c8802c7",
      "metadata": {
        "jp-MarkdownHeadingCollapsed": true,
        "tags": [],
        "id": "36d6a8d2-4879-41c7-9204-537b0c8802c7"
      },
      "source": [
        "# Build Model"
      ]
    },
    {
      "cell_type": "code",
      "execution_count": null,
      "id": "0821fe34-92af-4c29-aa6d-5fa0e579e7f2",
      "metadata": {
        "id": "0821fe34-92af-4c29-aa6d-5fa0e579e7f2"
      },
      "outputs": [],
      "source": [
        "def build_model(resize=resize,channel=channel):\n",
        "    input_size = (resize,resize,channel)\n",
        "    inputs = Input(shape=input_size)\n",
        "    # x = tf.keras.applications.efficientnet.EfficientNetB7(include_top=False,weights='imagenet')(inputs)\n",
        "    x = tf.keras.applications.mobilenet_v2.MobileNetV2(include_top=False,weights='imagenet')(inputs)\n",
        "    # x = tf.keras.applications.resnet.ResNet152(include_top=False,weights='imagenet')(inputs)\n",
        "    x = Flatten()(x)\n",
        "    x = Dropout(0.5)(x)\n",
        "    x = Dense(len(labels), activation='softmax')(x)\n",
        "    return tf.keras.Model(inputs = inputs, outputs = x)\n",
        "\n",
        "model1 = build_model()\n",
        "model1.compile(optimizer=tf.keras.optimizers.Adam(learning_rate=1e-5),\n",
        "             loss=tf.keras.losses.SparseCategoricalCrossentropy(),\n",
        "             metrics=['accuracy'])\n",
        "\n",
        "ckpt_path = 'models/train/MobileNetV2.1.h5'\n",
        "if op.exists(ckpt_path):\n",
        "    print('Load pretrained weights')\n",
        "    model1.load_weights(ckpt_path)\n",
        "\n",
        "X_check_model = np.random.random((1,resize,resize,channel))\n",
        "print(model1.predict(X_check_model).shape)"
      ]
    },
    {
      "cell_type": "markdown",
      "id": "3a8989cb-ef8b-4150-aaf7-8cfdb8cb6c5e",
      "metadata": {
        "tags": [],
        "id": "3a8989cb-ef8b-4150-aaf7-8cfdb8cb6c5e"
      },
      "source": [
        "# Define Train and Test"
      ]
    },
    {
      "cell_type": "code",
      "execution_count": null,
      "id": "2ccc2167-5dba-4b0f-b960-850051a40bda",
      "metadata": {
        "id": "2ccc2167-5dba-4b0f-b960-850051a40bda"
      },
      "outputs": [],
      "source": [
        "def train(model = model1,\n",
        "          labels = labels,\n",
        "          x_train = x_train,\n",
        "          sample = 180,\n",
        "          x_val = x_val,\n",
        "          x_test = None,\n",
        "          batch_size = 8,\n",
        "          epochs = 1000,\n",
        "          ckpt_path = 'models/train',\n",
        "          threshold = 0.5):\n",
        "    min_val_loss = 9999\n",
        "    _epoch = []\n",
        "    train_acc = []\n",
        "    train_loss = []\n",
        "    if x_val is not None:\n",
        "        val_acc = []\n",
        "        val_loss = []\n",
        "    for epoch in range(epochs):\n",
        "        \n",
        "        ##### Train #####\n",
        "        print(f'Epoch {epoch+1}')\n",
        "        \n",
        "        x_train_epoch = [] # Take equal images for each label\n",
        "        y_train_epoch = []\n",
        "        for label in x_train:\n",
        "            x_train_epoch.extend(random.sample(x_train[label],min(sample,len(x_train[label]))))\n",
        "            y_train_epoch.extend([labels.index(label)] * sample)\n",
        "            \n",
        "        seed = np.random.randint(0, 10000) # Shuffle\n",
        "        np.random.seed(seed)\n",
        "        np.random.shuffle(x_train_epoch)\n",
        "        np.random.seed(seed)\n",
        "        np.random.shuffle(y_train_epoch)\n",
        "        \n",
        "        total_iteration = len(y_train_epoch)//batch_size # Train iterations for each epoch\n",
        "        iter_acc = []\n",
        "        iter_loss = []\n",
        "        \n",
        "        for iteration in range(total_iteration):\n",
        "            x_train_iter = x_train_epoch[(batch_size*iteration):(batch_size*(iteration+1))]\n",
        "            y_train_iter = y_train_epoch[(batch_size*iteration):(batch_size*(iteration+1))]\n",
        "            X_train_iter, Y_train_iter = preprocessing_img(paths=x_train_iter,\n",
        "                                                           labels=y_train_iter,\n",
        "                                                           train=True, \n",
        "                                                           resize=resize)\n",
        "            \n",
        "            if iteration == 0:\n",
        "                sample_image = (X_train_iter[0]*255).astype(np.uint8)\n",
        "                sample_image = cv2.cvtColor(sample_image, cv2.COLOR_BGR2RGB)\n",
        "                plt.imshow(sample_image)\n",
        "                plt.show()\n",
        "                print(f'Label: {labels[Y_train_iter[0]]}')  \n",
        "            history = model.fit(x=X_train_iter,\n",
        "                                y=Y_train_iter,\n",
        "                                verbose=0)\n",
        "            iter_acc.append(history.history['accuracy'][-1])\n",
        "            iter_loss.append(history.history['loss'][-1])\n",
        "            \n",
        "        # _train_acc, _train_loss = test(model,x_train,y_train)\n",
        "        _train_acc = np.mean(iter_acc)*100\n",
        "        _train_loss = np.mean(iter_loss)\n",
        "        print(f'Train accuracy: {_train_acc:.2f}%')\n",
        "        print(f'Train loss: {_train_loss}')\n",
        "        train_acc.append(_train_acc)\n",
        "        train_loss.append(_train_loss)\n",
        "        _epoch.append(epoch+1)\n",
        "        \n",
        "        \n",
        "        ##### Val #####\n",
        "        if x_val is not None:\n",
        "            _val_acc, _val_loss = test(model, labels, x_val, threshold)\n",
        "            _val_acc = _val_acc*100\n",
        "            print(f'Validation accuracy: {_val_acc:.2f}%')\n",
        "            print(f'Validation loss: {_val_loss}')\n",
        "            if _val_loss <= min_val_loss:\n",
        "                min_val_loss = _val_loss\n",
        "                model.save(op.join(ckpt_path,'MobileNetV2.1.h5'))\n",
        "            val_acc.append(_val_acc)\n",
        "            val_loss.append(_val_loss)\n",
        "\n",
        "                \n",
        "        ##### Test #####\n",
        "        if x_test is not None:\n",
        "            if type(x_test) is dict:\n",
        "                _test_acc, _test_loss = test(model, labels, x_test, threshold)\n",
        "                _test_acc = _test_acc*100\n",
        "                print(f'Test accuracy: {_test_acc:.2f}%')\n",
        "                print(f'Test loss: {_test_loss}')\n",
        "            else:\n",
        "                test(model, labels, x_test, show=True)\n",
        "        \n",
        "        if (epoch+1)%10 == 0:\n",
        "            clear_output()\n",
        "            fig1, (ax1, ax2) = plt.subplots(1, 2, figsize=(22, 6))\n",
        "            ax1.plot(_epoch, train_acc, label = 'Training Accuracy')\n",
        "            if x_val is not None:\n",
        "                ax1.plot(_epoch, val_acc, label = 'Validation Accuracy')\n",
        "            ax1.set_title('Model Accuracy')\n",
        "            ax1.set_xlabel('Epoch')\n",
        "            ax1.set_ylabel('Accuracy')\n",
        "            ax1.set_ylim(95, 100)\n",
        "            ax1.legend(loc='lower right')\n",
        "            ax1.grid(True)\n",
        "            ax2.plot(_epoch, train_loss, label = 'Training Loss')\n",
        "            if x_val is not None:\n",
        "                ax2.plot(_epoch, val_loss, label = 'Validation Loss')\n",
        "            ax2.set_title('Model Loss')\n",
        "            ax2.set_xlabel('Epoch')\n",
        "            ax2.set_ylabel('Loss')\n",
        "            ax2.legend(loc='upper right')\n",
        "            ax2.grid(True)\n",
        "            plt.show()\n",
        "        \n",
        "        model.save(op.join(ckpt_path,'MobileNetV2.1.last.h5'))"
      ]
    },
    {
      "cell_type": "code",
      "execution_count": null,
      "id": "2baeda29-edc0-4945-8afc-8dd99f18aeb6",
      "metadata": {
        "id": "2baeda29-edc0-4945-8afc-8dd99f18aeb6"
      },
      "outputs": [],
      "source": [
        "def test(model = model1,\n",
        "         labels = labels,\n",
        "         x_test = {},\n",
        "         threshold = 0.5,\n",
        "         show = False,\n",
        "         show_false = False):\n",
        "    if type(x_test) is dict: # Provide a dict containing both paths and results\n",
        "        _x_test = []\n",
        "        _y_test = []\n",
        "        for label in x_test:\n",
        "            for path in x_test[label]:\n",
        "                _x_test.append(path)\n",
        "                _y_test.append(labels.index(label))        \n",
        "        total = 0\n",
        "        true = 0\n",
        "        loss = []        \n",
        "        for x_test_1, y_test_1 in zip(_x_test,_y_test):\n",
        "            X_test_1, Y_test_1 = preprocessing_img(paths=np.array([x_test_1]),\n",
        "                                                   labels=np.array([y_test_1]),\n",
        "                                                   train=False, \n",
        "                                                   resize=resize)\n",
        "            Y_pred_1 = model.predict(X_test_1,verbose=0)[0]\n",
        "            # print(Y_pred_1)\n",
        "            y_pred_1 = np.argmax(Y_pred_1)\n",
        "            # print(y_pred_1)\n",
        "            if Y_pred_1[y_pred_1] < threshold: # Ket qua phai lon hon 0.5\n",
        "                y_pred_1 = len(labels)-1\n",
        "            total += 1\n",
        "            if y_test_1 == y_pred_1:\n",
        "                true += 1\n",
        "            if show | (show_false & (y_test_1!=y_pred_1)):\n",
        "                print(f'\\nImage path: {x_test_1}')\n",
        "                image = cv2.imread(x_test_1)\n",
        "                image = cv2.cvtColor(image,cv2.COLOR_RGB2BGR)\n",
        "                plt.imshow(image)\n",
        "                plt.show()\n",
        "                print(f'True label: {labels[y_test_1]}')\n",
        "                print(f'Predicted label: {labels[y_pred_1]}')\n",
        "                print('\\n')\n",
        "            loss.append(model.loss([y_test_1],[Y_pred_1]).numpy())\n",
        "        accuracy = true/total\n",
        "        loss = np.mean(loss)\n",
        "        return accuracy, loss\n",
        "    \n",
        "    elif type(x_test) is str: # Provide a path\n",
        "        X_test = preprocessing_img(paths=np.array([x_test]),\n",
        "                                   labels=None,\n",
        "                                   train=False, \n",
        "                                   resize=resize)\n",
        "        Y_pred_1 = model.predict(X_test,verbose=0)[0]\n",
        "        y_pred_1 = np.argmax(Y_pred_1)\n",
        "        if Y_pred_1[y_pred_1] < threshold: # Ket qua phai lon hon 0.5\n",
        "            result = labels[len(labels)-1]\n",
        "        else:\n",
        "            result = labels[y_pred_1]\n",
        "        if show:\n",
        "            print(f'\\nImage path: {x_test}')\n",
        "            image = cv2.imread(x_test)\n",
        "            image = cv2.cvtColor(image,cv2.COLOR_RGB2BGR)\n",
        "            plt.imshow(image)\n",
        "            plt.show()\n",
        "            if result != labels[len(labels)-1]:\n",
        "                print(f'Predicted label: {result}')\n",
        "            else:\n",
        "                print(f'Cannot predict type of paper')\n",
        "            print('\\n')\n",
        "        return result\n",
        "    \n",
        "    elif type(x_test) is list: # Provide a list of paths\n",
        "        results = []\n",
        "        for x_test_1 in x_test:\n",
        "            results.append(test(model=model, labels=labels, x_test=x_test_1, threshold=threshold, show=show))\n",
        "        return results\n",
        "    \n",
        "    else:\n",
        "        raise Exception(\"Wrong type x_test\")"
      ]
    },
    {
      "cell_type": "markdown",
      "id": "73c1b403-ec8f-4e56-9b4f-cb490af5f44c",
      "metadata": {
        "tags": [],
        "id": "73c1b403-ec8f-4e56-9b4f-cb490af5f44c"
      },
      "source": [
        "# Train"
      ]
    },
    {
      "cell_type": "code",
      "execution_count": null,
      "id": "252bc750-63e7-4461-8c6a-97ec291065cb",
      "metadata": {
        "id": "252bc750-63e7-4461-8c6a-97ec291065cb"
      },
      "outputs": [],
      "source": [
        "train()"
      ]
    },
    {
      "cell_type": "markdown",
      "id": "8812e941-1c3c-429a-bf20-7a3c3e5ffe59",
      "metadata": {
        "jp-MarkdownHeadingCollapsed": true,
        "tags": [],
        "id": "8812e941-1c3c-429a-bf20-7a3c3e5ffe59"
      },
      "source": [
        "# Check Model"
      ]
    },
    {
      "cell_type": "code",
      "execution_count": null,
      "id": "230abe12-7476-480d-a3ab-b8a5ffc98647",
      "metadata": {
        "id": "230abe12-7476-480d-a3ab-b8a5ffc98647"
      },
      "outputs": [],
      "source": [
        "model1.load_weights('models/train/MobileNetV2.1.h5')"
      ]
    },
    {
      "cell_type": "markdown",
      "id": "e6c628c0-551b-42bb-8075-b05f66939315",
      "metadata": {
        "jp-MarkdownHeadingCollapsed": true,
        "tags": [],
        "id": "e6c628c0-551b-42bb-8075-b05f66939315"
      },
      "source": [
        "## val"
      ]
    },
    {
      "cell_type": "code",
      "execution_count": null,
      "id": "0c569fcc-e992-4349-bc52-802f73c84e91",
      "metadata": {
        "id": "0c569fcc-e992-4349-bc52-802f73c84e91"
      },
      "outputs": [],
      "source": [
        "for label in x_val:\n",
        "    paths = x_val[label]\n",
        "    results = test(model = model1,\n",
        "                   labels = labels,\n",
        "                   x_test = paths,\n",
        "                   threshold = 0.5)\n",
        "    result = np.where(np.array(results)==label,1,0)\n",
        "    result = np.sum(result)/len(result)\n",
        "    print(f'\\nLabel: {label}')\n",
        "    print(f'Accuracy: {result*100}%')\n",
        "    for i, j in zip(paths,results):\n",
        "        if j != label:\n",
        "            print(f'Path: {i}')\n",
        "            image = cv2.imread(i)\n",
        "            image = cv2.cvtColor(image,cv2.COLOR_RGB2BGR)\n",
        "            plt.imshow(image)\n",
        "            plt.show()\n",
        "            print(f'Predict: {j}')"
      ]
    },
    {
      "cell_type": "markdown",
      "id": "3e8e30e8-6a45-4638-a9f2-158790c1ce49",
      "metadata": {
        "jp-MarkdownHeadingCollapsed": true,
        "tags": [],
        "id": "3e8e30e8-6a45-4638-a9f2-158790c1ce49"
      },
      "source": [
        "## test"
      ]
    },
    {
      "cell_type": "code",
      "execution_count": null,
      "id": "9406155f-f142-4ae3-85c8-37df833105bf",
      "metadata": {
        "id": "9406155f-f142-4ae3-85c8-37df833105bf"
      },
      "outputs": [],
      "source": [
        "for label in x_test:\n",
        "    paths = x_test[label]\n",
        "    results = test(model = model1,\n",
        "                   labels = labels,\n",
        "                   x_test = paths,\n",
        "                   threshold = 0.5)\n",
        "    result = np.where(np.array(results)==label,1,0)\n",
        "    result = np.sum(result)/len(result)\n",
        "    print(f'\\nLabel: {label}')\n",
        "    print(f'Accuracy: {result*100}%')\n",
        "    for i, j in zip(paths,results):\n",
        "        if j != label:\n",
        "            print(f'Path: {i}')\n",
        "            image = cv2.imread(i)\n",
        "            image = cv2.cvtColor(image,cv2.COLOR_RGB2BGR)\n",
        "            plt.imshow(image)\n",
        "            plt.show()\n",
        "            print(f'Predict: {j}')"
      ]
    },
    {
      "cell_type": "markdown",
      "id": "58a8fed1-1635-4187-8bf1-3bf3d1a66241",
      "metadata": {
        "jp-MarkdownHeadingCollapsed": true,
        "tags": [],
        "id": "58a8fed1-1635-4187-8bf1-3bf3d1a66241"
      },
      "source": [
        "# Save Model"
      ]
    },
    {
      "cell_type": "code",
      "execution_count": null,
      "id": "96d03eda-833c-44b8-8fc2-aa514ae5dd93",
      "metadata": {
        "id": "96d03eda-833c-44b8-8fc2-aa514ae5dd93"
      },
      "outputs": [],
      "source": [
        "model1.load_weights('models/train/MobileNetV2.1.h5')\n",
        "model1.save('models/train/saved_model')"
      ]
    },
    {
      "cell_type": "markdown",
      "id": "3d954fe4-4d6e-412b-8d37-cfab308358e8",
      "metadata": {
        "tags": [],
        "id": "3d954fe4-4d6e-412b-8d37-cfab308358e8"
      },
      "source": [
        "# Predict"
      ]
    }
  ],
  "metadata": {
    "kernelspec": {
      "display_name": "Python 3 (ipykernel)",
      "language": "python",
      "name": "python3"
    },
    "language_info": {
      "codemirror_mode": {
        "name": "ipython",
        "version": 3
      },
      "file_extension": ".py",
      "mimetype": "text/x-python",
      "name": "python",
      "nbconvert_exporter": "python",
      "pygments_lexer": "ipython3",
      "version": "3.9.12"
    },
    "colab": {
      "provenance": [],
      "include_colab_link": true
    }
  },
  "nbformat": 4,
  "nbformat_minor": 5
}